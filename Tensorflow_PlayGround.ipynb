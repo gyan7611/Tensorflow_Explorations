{
 "cells": [
  {
   "cell_type": "markdown",
   "metadata": {},
   "source": [
    "# Tensorflow Basics\n",
    "I will try to simplify the operations around using tensorflow . I am creating this for my own understanding. Feel free to use this . It will be a code level introduction . I won't go into the inner working of Tensorflow. The idea is to create a resource starting from how you define variables in tensorflow to using it to build a multi layered neural net.\n",
    "\n",
    "This notebook is running on tf version 1.8.0"
   ]
  },
  {
   "cell_type": "markdown",
   "metadata": {},
   "source": [
    "## Defining Variables , Creating Sessions"
   ]
  },
  {
   "cell_type": "code",
   "execution_count": 1,
   "metadata": {},
   "outputs": [
    {
     "data": {
      "text/plain": [
       "b'Hello World'"
      ]
     },
     "execution_count": 1,
     "metadata": {},
     "output_type": "execute_result"
    }
   ],
   "source": [
    "#printing Hello World\n",
    "import tensorflow as tf\n",
    "\n",
    "a = tf.constant('Hello World')\n",
    "\n",
    "sess = tf.Session()\n",
    "\n",
    "sess.run(a)"
   ]
  },
  {
   "cell_type": "code",
   "execution_count": 2,
   "metadata": {},
   "outputs": [
    {
     "name": "stdout",
     "output_type": "stream",
     "text": [
      "5\n"
     ]
    }
   ],
   "source": [
    "#Basic Operations with constants as graph inputs\n",
    "\n",
    "a = tf.constant(3)\n",
    "b = tf.constant(2)\n",
    "\n",
    "with tf.Session() as sess:\n",
    "    print(sess.run(a+b))"
   ]
  },
  {
   "cell_type": "code",
   "execution_count": 3,
   "metadata": {},
   "outputs": [
    {
     "name": "stdout",
     "output_type": "stream",
     "text": [
      "5\n"
     ]
    }
   ],
   "source": [
    "#Basic Operations with variables as graph inputs\n",
    "\n",
    "#Defining placeholders for the variables\n",
    "a = tf.placeholder(tf.int16) \n",
    "b = tf.placeholder(tf.int16)\n",
    "\n",
    "add = tf.add(a , b)\n",
    "with tf.Session() as sess:\n",
    "    print(sess.run(add , feed_dict={a:2 , b : 3})) #Defining the variable at runtime by passing feed dict"
   ]
  },
  {
   "cell_type": "markdown",
   "metadata": {},
   "source": [
    "## Eager API\n",
    "\n",
    "Tensorflow takes care of the problem of sessions and graphs by giving the eager API . Once you enable it , it tells tf to work like how we work in Python. That means , printing variables as we go and not worry about adding nodes to graph etc.\n",
    "\n",
    "\n",
    "Eager execution should be invoked at the start of the program without any running session and then we can enable eager execution \n",
    "Restart the kernel and import tensorflow "
   ]
  },
  {
   "cell_type": "code",
   "execution_count": 1,
   "metadata": {},
   "outputs": [],
   "source": [
    "import tensorflow as tf\n",
    "\n",
    "tf.enable_eager_execution() #Enabling the eager mode"
   ]
  },
  {
   "cell_type": "code",
   "execution_count": 2,
   "metadata": {},
   "outputs": [
    {
     "data": {
      "text/plain": [
       "True"
      ]
     },
     "execution_count": 2,
     "metadata": {},
     "output_type": "execute_result"
    }
   ],
   "source": [
    "tf.executing_eagerly() #Checking if tf is going to execute eagerly"
   ]
  },
  {
   "cell_type": "code",
   "execution_count": 3,
   "metadata": {},
   "outputs": [],
   "source": [
    "a = tf.constant(3)\n",
    "b = tf.constant(2)\n",
    "\n",
    "c = a+b"
   ]
  },
  {
   "cell_type": "code",
   "execution_count": 4,
   "metadata": {},
   "outputs": [
    {
     "name": "stdout",
     "output_type": "stream",
     "text": [
      "tf.Tensor(5, shape=(), dtype=int32)\n"
     ]
    }
   ],
   "source": [
    "print(c) # Wow , we didn't need to create a new session or anything. Yayy."
   ]
  },
  {
   "cell_type": "markdown",
   "metadata": {},
   "source": [
    "Now that we know how to define variables and how to use sessions for running operations , let's jump right into Machine Learning . Let's start with a simple linear regression. \n",
    "\n",
    "\n",
    "Note : We are not concerned about the performance of the model , we will just see how we can use tensorflow to build a logistic model . So we will just give the model a pretty easy function to learn ."
   ]
  },
  {
   "cell_type": "code",
   "execution_count": 7,
   "metadata": {},
   "outputs": [],
   "source": [
    "import tensorflow as tf\n",
    "import numpy as np\n",
    "import matplotlib.pyplot as plt\n",
    "rng = numpy.random"
   ]
  },
  {
   "cell_type": "code",
   "execution_count": 8,
   "metadata": {},
   "outputs": [],
   "source": [
    "learning_rate = 0.01\n",
    "training_epochs = 1000\n",
    "display_step = 50"
   ]
  },
  {
   "cell_type": "markdown",
   "metadata": {},
   "source": [
    "Let's create the training data.\n",
    "As told above , let's give the model to learn a easy function $y = x + 1$"
   ]
  },
  {
   "cell_type": "code",
   "execution_count": 10,
   "metadata": {},
   "outputs": [],
   "source": [
    "train_X = np.array([1,2,3,4,5,6,7,8,9,10,11,12])\n",
    "train_Y = np.array([2,3,4,5,6,7,8,9,10,11,12,13])\n",
    "n_samples = train_X.shape[0]"
   ]
  },
  {
   "cell_type": "code",
   "execution_count": 11,
   "metadata": {},
   "outputs": [],
   "source": [
    "#Creating placeholders for X and y\n",
    "X = tf.placeholder(\"float\")\n",
    "Y = tf.placeholder(\"float\")\n",
    "\n",
    "# Set model weights\n",
    "W = tf.Variable(rng.randn(), name=\"weight\")\n",
    "b = tf.Variable(rng.randn(), name=\"bias\")\n"
   ]
  },
  {
   "cell_type": "code",
   "execution_count": 12,
   "metadata": {},
   "outputs": [],
   "source": [
    "#Defining the operation\n",
    "pred = tf.add(tf.multiply(X, W), b)"
   ]
  },
  {
   "cell_type": "code",
   "execution_count": 13,
   "metadata": {},
   "outputs": [],
   "source": [
    "# Mean squared error\n",
    "cost = tf.reduce_sum(tf.pow(pred-Y, 2))/(2*n_samples)\n",
    "# Gradient descent\n",
    "optimizer = tf.train.GradientDescentOptimizer(learning_rate).minimize(cost)"
   ]
  },
  {
   "cell_type": "code",
   "execution_count": 14,
   "metadata": {},
   "outputs": [],
   "source": [
    "#Initializing the variables\n",
    "init = tf.global_variables_initializer()"
   ]
  },
  {
   "cell_type": "code",
   "execution_count": 15,
   "metadata": {},
   "outputs": [
    {
     "name": "stdout",
     "output_type": "stream",
     "text": [
      "Epoch: 0050 cost= 0.010818630 W= 0.9646841 b= 1.3118615\n",
      "Epoch: 0100 cost= 0.008692600 W= 0.9683437 b= 1.2795445\n",
      "Epoch: 0150 cost= 0.006984351 W= 0.9716243 b= 1.2505754\n",
      "Epoch: 0200 cost= 0.005611829 W= 0.9745646 b= 1.2246095\n",
      "Epoch: 0250 cost= 0.004509042 W= 0.9772004 b= 1.2013344\n",
      "Epoch: 0300 cost= 0.003622931 W= 0.9795632 b= 1.1804703\n",
      "Epoch: 0350 cost= 0.002910977 W= 0.981681 b= 1.1617688\n",
      "Epoch: 0400 cost= 0.002338938 W= 0.9835792 b= 1.1450057\n",
      "Epoch: 0450 cost= 0.001879295 W= 0.9852809 b= 1.129979\n",
      "Epoch: 0500 cost= 0.001509967 W= 0.9868063 b= 1.1165088\n",
      "Epoch: 0550 cost= 0.001213223 W= 0.9881735 b= 1.1044352\n",
      "Epoch: 0600 cost= 0.000974811 W= 0.98939914 b= 1.0936127\n",
      "Epoch: 0650 cost= 0.000783243 W= 0.9904975 b= 1.083912\n",
      "Epoch: 0700 cost= 0.000629313 W= 0.9914824 b= 1.0752157\n",
      "Epoch: 0750 cost= 0.000505657 W= 0.99236494 b= 1.0674223\n",
      "Epoch: 0800 cost= 0.000406284 W= 0.99315614 b= 1.0604353\n",
      "Epoch: 0850 cost= 0.000326445 W= 0.9938654 b= 1.0541728\n",
      "Epoch: 0900 cost= 0.000262286 W= 0.99450123 b= 1.0485581\n",
      "Epoch: 0950 cost= 0.000210751 W= 0.9950709 b= 1.0435271\n",
      "Epoch: 1000 cost= 0.000169322 W= 0.9955818 b= 1.039015\n",
      "Optimization Finished!\n",
      "Training cost= 0.00016932207 W= 0.9955818 b= 1.039015 \n",
      "\n"
     ]
    },
    {
     "data": {
      "image/png": "[encoded data removed]",
      "text/plain": [
       "<Figure size 432x288 with 1 Axes>"
      ]
     },
     "metadata": {},
     "output_type": "display_data"
    }
   ],
   "source": [
    "# Start training\n",
    "with tf.Session() as sess:\n",
    "    sess.run(init)\n",
    "\n",
    "    # Fit all training data\n",
    "    for epoch in range(training_epochs):\n",
    "        for (x, y) in zip(train_X, train_Y):\n",
    "            sess.run(optimizer, feed_dict={X: x, Y: y})\n",
    "\n",
    "        #Display logs per epoch step\n",
    "        if (epoch+1) % display_step == 0:\n",
    "            c = sess.run(cost, feed_dict={X: train_X, Y:train_Y})\n",
    "            print(\"Epoch:\", '%04d' % (epoch+1), \"cost=\", \"{:.9f}\".format(c), \\\n",
    "                \"W=\", sess.run(W), \"b=\", sess.run(b))\n",
    "\n",
    "    print(\"Optimization Finished!\")\n",
    "    training_cost = sess.run(cost, feed_dict={X: train_X, Y: train_Y})\n",
    "    print (\"Training cost=\", training_cost, \"W=\", sess.run(W), \"b=\", sess.run(b), '\\n')\n",
    "\n",
    "    #Graphic display\n",
    "    plt.plot(train_X, train_Y, 'ro', label='Original data')\n",
    "    plt.plot(train_X, sess.run(W) * train_X + sess.run(b), label='Fitted line')\n",
    "    plt.legend()\n",
    "    plt.show()"
   ]
  },
  {
   "cell_type": "markdown",
   "metadata": {},
   "source": [
    "Great , looks like the model learnt the function pretty well .\n",
    "And with that we have trained our first model in tensorflow . Yayy .\n",
    "\n",
    "Next we will see how to save a model and restore it to make a prediction"
   ]
  },
  {
   "cell_type": "markdown",
   "metadata": {},
   "source": [
    "# Saving Models , Restoring Models "
   ]
  },
  {
   "cell_type": "code",
   "execution_count": null,
   "metadata": {},
   "outputs": [],
   "source": []
  }
 ],
 "metadata": {
  "kernelspec": {
   "display_name": "py3_kernel",
   "language": "python",
   "name": "py3_kernel"
  },
  "language_info": {
   "codemirror_mode": {
    "name": "ipython",
    "version": 3
   },
   "file_extension": ".py",
   "mimetype": "text/x-python",
   "name": "python",
   "nbconvert_exporter": "python",
   "pygments_lexer": "ipython3",
   "version": "3.6.5"
  }
 },
 "nbformat": 4,
 "nbformat_minor": 1
}
